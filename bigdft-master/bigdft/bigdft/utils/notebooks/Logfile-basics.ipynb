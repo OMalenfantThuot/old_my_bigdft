{
 "cells": [
  {
   "cell_type": "markdown",
   "metadata": {
    "deletable": true,
    "editable": true
   },
   "source": [
    "# Analyze a BigDFT run"
   ]
  },
  {
   "cell_type": "markdown",
   "metadata": {
    "deletable": true,
    "editable": true
   },
   "source": [
    "In this example we will inspect how the BigDFT python library can be used to retrieve the results from a run.\n",
    "\n",
    "As a first operation we have to be sure that the path for the BigDFT scripts is present in the PYTHONPATH.\n",
    "If not so, this might be updated by the script in the following way:"
   ]
  },
  {
   "cell_type": "code",
   "execution_count": 21,
   "metadata": {
    "collapsed": false,
    "deletable": true,
    "editable": true
   },
   "outputs": [
    {
     "name": "stdout",
     "output_type": "stream",
     "text": [
      "('there', '/Users/maximemoriniere/post-doc/bigdft/bigdft/bigdft/src/python')\n",
      "('here', ['', '/usr/local/lib/python2.7/site-packages/PyYAML-3.12-py2.7-macosx-10.10-x86_64.egg', '/Users/maximemoriniere/post-doc/bigdft/bigdft/build/install/lib/python2.7/site-packages', '/usr/local/Cellar/python/2.7.10_2/Frameworks/Python.framework/Versions/2.7/lib/python27.zip', '/usr/local/Cellar/python/2.7.10_2/Frameworks/Python.framework/Versions/2.7/lib/python2.7', '/usr/local/Cellar/python/2.7.10_2/Frameworks/Python.framework/Versions/2.7/lib/python2.7/plat-darwin', '/usr/local/Cellar/python/2.7.10_2/Frameworks/Python.framework/Versions/2.7/lib/python2.7/plat-mac', '/usr/local/Cellar/python/2.7.10_2/Frameworks/Python.framework/Versions/2.7/lib/python2.7/plat-mac/lib-scriptpackages', '/usr/local/Cellar/python/2.7.10_2/Frameworks/Python.framework/Versions/2.7/lib/python2.7/lib-tk', '/usr/local/Cellar/python/2.7.10_2/Frameworks/Python.framework/Versions/2.7/lib/python2.7/lib-old', '/usr/local/Cellar/python/2.7.10_2/Frameworks/Python.framework/Versions/2.7/lib/python2.7/lib-dynload', '/usr/local/lib/python2.7/site-packages', '/usr/local/Cellar/numpy/1.11.1/libexec/nose/lib/python2.7/site-packages', '/usr/local/lib/python2.7/site-packages/gtk-2.0', '/Library/Python/2.7/site-packages/PyYAML-3.11-py2.7-macosx-10.10-intel.egg', '/Library/Python/2.7/site-packages', '/usr/local/lib/python2.7/site-packages/IPython/extensions', '/Users/maximemoriniere/.ipython', '/Users/maximemoriniere/post-doc/bigdft/bigdft/bigdft/src/python'])\n"
     ]
    }
   ],
   "source": [
    "#write here the position of the BigDFT installation (usually <buildtree>/install/lib/pythonX.X/site-packages)\n",
    "import os\n",
    "BIGDFT_PYTHONDIR=os.path.abspath(\n",
    "    os.path.join(os.pardir,os.pardir,'src','python')\n",
    "    ) #refer to the sources, only for test \n",
    "#then update the path\n",
    "import sys\n",
    "if BIGDFT_PYTHONDIR not in sys.path: \n",
    "    sys.path+=[BIGDFT_PYTHONDIR]"
   ]
  },
  {
   "cell_type": "markdown",
   "metadata": {
    "deletable": true,
    "editable": true
   },
   "source": [
    "Now we can load the Logfiles module:"
   ]
  },
  {
   "cell_type": "code",
   "execution_count": 22,
   "metadata": {
    "collapsed": false,
    "deletable": true,
    "editable": true
   },
   "outputs": [],
   "source": [
    "from BigDFT import Logfiles as lf \n",
    "#for interactive plots remove the following line\n",
    "%matplotlib inline "
   ]
  },
  {
   "cell_type": "markdown",
   "metadata": {
    "deletable": true,
    "editable": true
   },
   "source": [
    "Let us now load a file into a instance of a Logfile class. Imagine that our logfile corresponds to a single-point run, and it is present in a file named \"log-HBDMI.yaml\":\n"
   ]
  },
  {
   "cell_type": "code",
   "execution_count": 3,
   "metadata": {
    "collapsed": false,
    "deletable": true,
    "editable": true
   },
   "outputs": [],
   "source": [
    "HBDMI=lf.Logfile('testfiles/log-HBDMI.yaml')"
   ]
  },
  {
   "cell_type": "markdown",
   "metadata": {
    "deletable": true,
    "editable": true
   },
   "source": [
    "The run is now loaded. To inspect its behaviour we might print it down to inspect the usual information:"
   ]
  },
  {
   "cell_type": "code",
   "execution_count": 4,
   "metadata": {
    "collapsed": false,
    "deletable": true,
    "editable": true
   },
   "outputs": [
    {
     "name": "stdout",
     "output_type": "stream",
     "text": [
      "- Atom types:\n",
      "  - C\n",
      "  - H\n",
      "  - N\n",
      "  - O\n",
      "- Cell: Free BC\n",
      "- Convergence criterion on forces: 0.0\n",
      "- Symmetry group: disabled\n",
      "- Energy: -127.35074499502582\n",
      "- Max val of Forces: 0.01730347812308\n",
      "- fermi_level: -0.1921099447862\n",
      "- Number of Atoms: 28\n",
      "- Convergence criterion on Wfn. Residue: 0.0001\n",
      "- No. of KS orbitals per k-point:\n",
      "  - 41\n",
      "  - 0\n",
      "\n"
     ]
    }
   ],
   "source": [
    "print HBDMI\n",
    "#HBDMI.geopt_plot()"
   ]
  },
  {
   "cell_type": "markdown",
   "metadata": {
    "deletable": true,
    "editable": true
   },
   "source": [
    "The above information can also be accessed separately, by having a look at the attributes of the HBDMI object:"
   ]
  },
  {
   "cell_type": "code",
   "execution_count": 5,
   "metadata": {
    "collapsed": false,
    "deletable": true,
    "editable": true
   },
   "outputs": [
    {
     "data": {
      "text/plain": [
       "['evals',\n",
       " 'forcemax_cv',\n",
       " 'log',\n",
       " 'symmetry',\n",
       " 'energy',\n",
       " 'label',\n",
       " 'forcemax',\n",
       " 'fermi_level',\n",
       " 'forces',\n",
       " 'nat',\n",
       " 'astruct',\n",
       " 'gnrm_cv']"
      ]
     },
     "execution_count": 5,
     "metadata": {},
     "output_type": "execute_result"
    }
   ],
   "source": [
    "HBDMI.__dict__.keys() #you may also type: dir(HBDMI)\n"
   ]
  },
  {
   "cell_type": "markdown",
   "metadata": {
    "deletable": true,
    "editable": true
   },
   "source": [
    "For this reason, we might consider to postprocess some of the variables for study of the system. Here an example:"
   ]
  },
  {
   "cell_type": "code",
   "execution_count": 6,
   "metadata": {
    "collapsed": false,
    "deletable": true,
    "editable": true
   },
   "outputs": [
    {
     "name": "stdout",
     "output_type": "stream",
     "text": [
      "The average energy per atom is: -4.54824089268 ( -127.350744995  Ha), 28  atoms)\n",
      "There are also, [41, 0]  (up,down) orbitals in the run\n"
     ]
    }
   ],
   "source": [
    "print 'The average energy per atom is:',HBDMI.energy/HBDMI.nat,\\\n",
    "    '(',HBDMI.energy,' Ha),',HBDMI.nat,' atoms)'\n",
    "print 'There are also,',HBDMI.evals[0].info,' (up,down) orbitals in the run'"
   ]
  },
  {
   "cell_type": "markdown",
   "metadata": {
    "deletable": true,
    "editable": true
   },
   "source": [
    "We might access the Density of States of this system (note that if the matplotlib inlining is deactivated, the RadioButton widget below allows to adjust the smearing):"
   ]
  },
  {
   "cell_type": "code",
   "execution_count": 7,
   "metadata": {
    "collapsed": false,
    "deletable": true,
    "editable": true
   },
   "outputs": [
    {
     "name": "stderr",
     "output_type": "stream",
     "text": [
      "/usr/local/lib/python2.7/site-packages/matplotlib/cbook.py:136: MatplotlibDeprecationWarning: The axisbg attribute was deprecated in version 2.0. Use facecolor instead.\n",
      "  warnings.warn(message, mplDeprecation, stacklevel=1)\n"
     ]
    },
    {
     "data": {
      "image/png": "[encoded data removed]",
      "text/plain": [
       "<matplotlib.figure.Figure at 0x1072ca750>"
      ]
     },
     "metadata": {},
     "output_type": "display_data"
    }
   ],
   "source": [
    "HBDMIDos=HBDMI.get_dos(label='HBDMI molecule')\n",
    "HBDMIDos.plot(sigma=0.1)"
   ]
  },
  {
   "cell_type": "code",
   "execution_count": 8,
   "metadata": {
    "collapsed": false,
    "deletable": true,
    "editable": true
   },
   "outputs": [
    {
     "data": {
      "image/png": "[encoded data removed]",
      "text/plain": [
       "<matplotlib.figure.Figure at 0x1073ed750>"
      ]
     },
     "metadata": {},
     "output_type": "display_data"
    }
   ],
   "source": [
    "HBDMI.wfn_plot()"
   ]
  },
  {
   "cell_type": "markdown",
   "metadata": {
    "deletable": true,
    "editable": true
   },
   "source": [
    "## Case of a periodic system"
   ]
  },
  {
   "cell_type": "markdown",
   "metadata": {
    "deletable": true,
    "editable": true
   },
   "source": [
    "The above case was a Free BC molecule single point run. Let us now consider the case of a periodic calculation.\n",
    "We take as an example a logfile coming from one run of the DeltaTest benchmark (see [this page](https://molmod.ugent.be/deltacodesdft) to know what it is all about). In any case, let us load the \"log-K-1.0.yaml\" file:"
   ]
  },
  {
   "cell_type": "code",
   "execution_count": 9,
   "metadata": {
    "collapsed": false,
    "deletable": true,
    "editable": true
   },
   "outputs": [
    {
     "name": "stdout",
     "output_type": "stream",
     "text": [
      "- Atom types:\n",
      "  - K\n",
      "- Cell:\n",
      "  - 9.98888442684\n",
      "  - 9.98888442684\n",
      "  - 9.98888442684\n",
      "- Convergence criterion on forces: 0.0\n",
      "- Symmetry group: not prim.\n",
      "- Energy: -56.52301363451743\n",
      "- kpt_mesh:\n",
      "  - 15\n",
      "  - 15\n",
      "  - 15\n",
      "- Max val of Forces: 2.038812434232e-07\n",
      "- fermi_level: 0.0609691899665294\n",
      "- Number of Atoms: 2\n",
      "- Convergence criterion on Wfn. Residue: 1e-08\n",
      "- No. of KS orbitals per k-point:\n",
      "  - 13\n",
      "  - 0\n",
      "\n"
     ]
    }
   ],
   "source": [
    "K=lf.Logfile('testfiles/log-K.yaml')\n",
    "print K"
   ]
  },
  {
   "cell_type": "markdown",
   "metadata": {
    "deletable": true,
    "editable": true
   },
   "source": [
    "Here we can see that there are also other attributes available, like the k-points and the pressure (in GPa):"
   ]
  },
  {
   "cell_type": "code",
   "execution_count": 10,
   "metadata": {
    "collapsed": false,
    "deletable": true,
    "editable": true
   },
   "outputs": [
    {
     "data": {
      "text/plain": [
       "['__doc__',\n",
       " '__getitem__',\n",
       " '__init__',\n",
       " '__module__',\n",
       " '__str__',\n",
       " '_get_bz',\n",
       " '_initialize_class',\n",
       " '_print_information',\n",
       " 'astruct',\n",
       " 'energy',\n",
       " 'evals',\n",
       " 'fermi_level',\n",
       " 'forcemax',\n",
       " 'forcemax_cv',\n",
       " 'geopt_plot',\n",
       " 'get_brillouin_zone',\n",
       " 'get_dos',\n",
       " 'gnrm_cv',\n",
       " 'kpt_mesh',\n",
       " 'kpts',\n",
       " 'label',\n",
       " 'log',\n",
       " 'nat',\n",
       " 'nkpt',\n",
       " 'symmetry',\n",
       " 'wfn_plot']"
      ]
     },
     "execution_count": 10,
     "metadata": {},
     "output_type": "execute_result"
    }
   ],
   "source": [
    "dir(K)"
   ]
  },
  {
   "cell_type": "markdown",
   "metadata": {
    "deletable": true,
    "editable": true
   },
   "source": [
    "Here we might trace the density of states but also the band structure plot, in a similar fashion (sse also the Band Structure notebook):"
   ]
  },
  {
   "cell_type": "code",
   "execution_count": 17,
   "metadata": {
    "collapsed": false,
    "deletable": true,
    "editable": true
   },
   "outputs": [
    {
     "data": {
      "image/png": "[encoded data removed]",
      "text/plain": [
       "<matplotlib.figure.Figure at 0x11063f5d0>"
      ]
     },
     "metadata": {},
     "output_type": "display_data"
    },
    {
     "name": "stdout",
     "output_type": "stream",
     "text": [
      "lattice [[ 9.98888443  0.          0.        ]\n",
      " [ 0.          9.98888443  0.        ]\n",
      " [ 0.          0.          9.98888443]]\n",
      "spacegroup Im-3m (229)\n",
      "Lattice found: cubic\n",
      "irreductible k-points 120\n",
      "Interpolation bias 2.38385636069e-09\n"
     ]
    },
    {
     "ename": "TypeError",
     "evalue": "cannot concatenate 'str' and 'list' objects",
     "output_type": "error",
     "traceback": [
      "\u001b[0;31m---------------------------------------------------------------------------\u001b[0m",
      "\u001b[0;31mTypeError\u001b[0m                                 Traceback (most recent call last)",
      "\u001b[0;32m<ipython-input-17-7c3f3d903cb9>\u001b[0m in \u001b[0;36m<module>\u001b[0;34m()\u001b[0m\n\u001b[1;32m      1\u001b[0m \u001b[0mK\u001b[0m\u001b[0;34m.\u001b[0m\u001b[0mget_dos\u001b[0m\u001b[0;34m(\u001b[0m\u001b[0;34m)\u001b[0m\u001b[0;34m.\u001b[0m\u001b[0mplot\u001b[0m\u001b[0;34m(\u001b[0m\u001b[0;34m)\u001b[0m\u001b[0;34m\u001b[0m\u001b[0m\n\u001b[0;32m----> 2\u001b[0;31m \u001b[0mK\u001b[0m\u001b[0;34m.\u001b[0m\u001b[0mget_brillouin_zone\u001b[0m\u001b[0;34m(\u001b[0m\u001b[0;34m)\u001b[0m\u001b[0;34m.\u001b[0m\u001b[0mplot\u001b[0m\u001b[0;34m(\u001b[0m\u001b[0;34m)\u001b[0m\u001b[0;34m\u001b[0m\u001b[0m\n\u001b[0m",
      "\u001b[0;32m/Users/maximemoriniere/post-doc/bigdft/bigdft/bigdft/src/python/BigDFT/BZ.pyc\u001b[0m in \u001b[0;36mplot\u001b[0;34m(self, path, npts)\u001b[0m\n\u001b[1;32m    175\u001b[0m     \u001b[0;32mdef\u001b[0m \u001b[0mplot\u001b[0m\u001b[0;34m(\u001b[0m\u001b[0mself\u001b[0m\u001b[0;34m,\u001b[0m\u001b[0mpath\u001b[0m\u001b[0;34m=\u001b[0m\u001b[0mNone\u001b[0m\u001b[0;34m,\u001b[0m\u001b[0mnpts\u001b[0m\u001b[0;34m=\u001b[0m\u001b[0;36m50\u001b[0m\u001b[0;34m)\u001b[0m\u001b[0;34m:\u001b[0m\u001b[0;34m\u001b[0m\u001b[0m\n\u001b[1;32m    176\u001b[0m         \u001b[0;32mif\u001b[0m \u001b[0mpath\u001b[0m \u001b[0;32mis\u001b[0m \u001b[0mNone\u001b[0m\u001b[0;34m:\u001b[0m\u001b[0;34m\u001b[0m\u001b[0m\n\u001b[0;32m--> 177\u001b[0;31m             \u001b[0mppath\u001b[0m\u001b[0;34m=\u001b[0m\u001b[0mBZPath\u001b[0m\u001b[0;34m(\u001b[0m\u001b[0mself\u001b[0m\u001b[0;34m.\u001b[0m\u001b[0mlattice\u001b[0m\u001b[0;34m,\u001b[0m\u001b[0mself\u001b[0m\u001b[0;34m.\u001b[0m\u001b[0mspecial_paths\u001b[0m\u001b[0;34m[\u001b[0m\u001b[0;36m0\u001b[0m\u001b[0;34m]\u001b[0m\u001b[0;34m+\u001b[0m\u001b[0;34m[\u001b[0m\u001b[0;34m'G'\u001b[0m\u001b[0;34m,\u001b[0m\u001b[0;34m]\u001b[0m\u001b[0;34m,\u001b[0m\u001b[0mself\u001b[0m\u001b[0;34m.\u001b[0m\u001b[0mspecial_points\u001b[0m\u001b[0;34m,\u001b[0m\u001b[0mnpts\u001b[0m\u001b[0;34m)\u001b[0m\u001b[0;34m\u001b[0m\u001b[0m\n\u001b[0m\u001b[1;32m    178\u001b[0m         \u001b[0;32melse\u001b[0m\u001b[0;34m:\u001b[0m\u001b[0;34m\u001b[0m\u001b[0m\n\u001b[1;32m    179\u001b[0m             \u001b[0mppath\u001b[0m\u001b[0;34m=\u001b[0m\u001b[0mpath\u001b[0m\u001b[0;34m\u001b[0m\u001b[0m\n",
      "\u001b[0;31mTypeError\u001b[0m: cannot concatenate 'str' and 'list' objects"
     ]
    }
   ],
   "source": [
    "K.get_dos().plot()\n",
    "K.get_brillouin_zone().plot()"
   ]
  },
  {
   "cell_type": "code",
   "execution_count": 18,
   "metadata": {
    "collapsed": false
   },
   "outputs": [
    {
     "name": "stdout",
     "output_type": "stream",
     "text": [
      "lattice [[ 9.98888443  0.          0.        ]\n",
      " [ 0.          9.98888443  0.        ]\n",
      " [ 0.          0.          9.98888443]]\n",
      "spacegroup Im-3m (229)\n",
      "Lattice found: cubic\n",
      "irreductible k-points 120\n",
      "Interpolation bias 2.38385636069e-09\n"
     ]
    }
   ],
   "source": [
    "KBZ=K.get_brillouin_zone()"
   ]
  },
  {
   "cell_type": "code",
   "execution_count": 19,
   "metadata": {
    "collapsed": false,
    "deletable": true,
    "editable": true
   },
   "outputs": [
    {
     "name": "stdout",
     "output_type": "stream",
     "text": [
      "{'X': [0, 0.5, 0], 'R': [0.5, 0.5, 0.5], 'M': [0.5, 0.5, 0], 'G': [0, 0, 0]}\n"
     ]
    }
   ],
   "source": [
    "print KBZ.special_points"
   ]
  },
  {
   "cell_type": "markdown",
   "metadata": {
    "deletable": true,
    "editable": true
   },
   "source": [
    "As another example for the system we might inspect the kpoints:"
   ]
  },
  {
   "cell_type": "code",
   "execution_count": null,
   "metadata": {
    "collapsed": false,
    "deletable": true,
    "editable": true
   },
   "outputs": [],
   "source": [
    "print K.kpts[0]\n",
    "print K.kpts[-1]"
   ]
  },
  {
   "cell_type": "markdown",
   "metadata": {
    "deletable": true,
    "editable": true
   },
   "source": [
    "## Case of a Geometry optimization"
   ]
  },
  {
   "cell_type": "markdown",
   "metadata": {
    "deletable": true,
    "editable": true
   },
   "source": [
    "For a geometry optimization the situation is similar, with the extra point that the code automatically recognize  multiple runs inside the logfile. Let us see the example of the following logfile:"
   ]
  },
  {
   "cell_type": "code",
   "execution_count": 12,
   "metadata": {
    "collapsed": false,
    "deletable": true,
    "editable": true
   },
   "outputs": [
    {
     "name": "stdout",
     "output_type": "stream",
     "text": [
      "('WARNING: More than one document are present', ComposerError())\n",
      "Loading...\n",
      "21 %\n",
      "29 %\n",
      "37 %\n",
      "45 %\n",
      "53 %\n",
      "61 %\n",
      "68 %\n",
      "76 %\n",
      "84 %\n",
      "92 %\n",
      "100 %\n",
      "('Found', 11, 'different runs')\n",
      "- Atom types:\n",
      "  - C\n",
      "  - H\n",
      "- Cell: Free BC\n",
      "- Convergence criterion on forces: 0.01\n",
      "- Symmetry group: disabled\n",
      "- Threshold fluctuation of Forces: 0.000771111\n",
      "- Energy: -14.900068217309986\n",
      "- Max val of Forces: 0.00376314\n",
      "- fermi_level: -0.2935133380623\n",
      "- Number of Atoms: 8\n",
      "- Convergence criterion on Wfn. Residue: 0.0001\n",
      "- No. of KS orbitals per k-point:\n",
      "  - 7\n",
      "  - 0\n",
      "\n"
     ]
    }
   ],
   "source": [
    "geopt=lf.Logfile('testfiles/GEOPT-all_sqnmbiomode.out.ref.yaml')\n",
    "print geopt"
   ]
  },
  {
   "cell_type": "markdown",
   "metadata": {
    "deletable": true,
    "editable": true
   },
   "source": [
    "The interesting point is that now the logfile can be iterated among the different geometry steps:"
   ]
  },
  {
   "cell_type": "code",
   "execution_count": 13,
   "metadata": {
    "collapsed": false,
    "deletable": true,
    "editable": true
   },
   "outputs": [
    {
     "name": "stdout",
     "output_type": "stream",
     "text": [
      "0 -14.8960952539\n",
      "1 -14.8973771723\n",
      "2 -14.8984824334\n",
      "3 -14.8988612802\n",
      "4 -14.8992643257\n",
      "5 -14.8995896652\n",
      "6 -14.8996942689\n",
      "7 -14.8997814206\n",
      "8 -14.8998305686\n",
      "9 -14.8999870545\n",
      "10 -14.9000682173\n"
     ]
    }
   ],
   "source": [
    "en=[l.energy for l in geopt]\n",
    "for i,e in enumerate(en):\n",
    "    print i,e"
   ]
  },
  {
   "cell_type": "markdown",
   "metadata": {
    "deletable": true,
    "editable": true
   },
   "source": [
    "The geopt_plot() function allows to plot the relation beween energy and forces, where it can be also seen that the desired criterion is reached. Errorbars show the local fluctuation of the forces, an indication of the (cleaned) center of mass drift. See the example:"
   ]
  },
  {
   "cell_type": "code",
   "execution_count": 14,
   "metadata": {
    "collapsed": false,
    "deletable": true,
    "editable": true
   },
   "outputs": [
    {
     "data": {
      "image/png": "[encoded data removed]",
      "text/plain": [
       "<matplotlib.figure.Figure at 0x11111b2d0>"
      ]
     },
     "metadata": {},
     "output_type": "display_data"
    }
   ],
   "source": [
    "geopt.geopt_plot()"
   ]
  },
  {
   "cell_type": "code",
   "execution_count": null,
   "metadata": {
    "collapsed": true,
    "deletable": true,
    "editable": true
   },
   "outputs": [],
   "source": []
  }
 ],
 "metadata": {
  "kernelspec": {
   "display_name": "Python 2",
   "language": "python",
   "name": "python2"
  },
  "language_info": {
   "codemirror_mode": {
    "name": "ipython",
    "version": 2
   },
   "file_extension": ".py",
   "mimetype": "text/x-python",
   "name": "python",
   "nbconvert_exporter": "python",
   "pygments_lexer": "ipython2",
   "version": "2.7.12"
  }
 },
 "nbformat": 4,
 "nbformat_minor": 0
}
